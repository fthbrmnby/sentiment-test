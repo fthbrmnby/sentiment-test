{
 "cells": [
  {
   "cell_type": "code",
   "execution_count": 1,
   "metadata": {
    "collapsed": true,
    "deletable": true,
    "editable": true
   },
   "outputs": [],
   "source": [
    "from nltk.corpus import sentiwordnet as swn\n",
    "from nltk import pos_tag\n",
    "import json\n",
    "import sys\n",
    "import tqdm"
   ]
  },
  {
   "cell_type": "code",
   "execution_count": 2,
   "metadata": {
    "collapsed": false,
    "deletable": true,
    "editable": true
   },
   "outputs": [],
   "source": [
    "# Read Data\n",
    "with open('./sentenced-reviews.json') as data_file:\n",
    "    data = data_file.readlines()\n",
    "\n",
    "data = [x.strip() for x in data]\n",
    "json_reviews = [json.loads(x) for x in data]"
   ]
  },
  {
   "cell_type": "code",
   "execution_count": 18,
   "metadata": {
    "collapsed": false,
    "deletable": true,
    "editable": true
   },
   "outputs": [
    {
     "name": "stderr",
     "output_type": "stream",
     "text": [
      "100%|██████████| 10/10 [00:00<00:00, 2259.62it/s]"
     ]
    },
    {
     "name": "stdout",
     "output_type": "stream",
     "text": [
      "1\n",
      "3\n",
      "2\n",
      "1\n",
      "1\n",
      "1\n",
      "1\n",
      "2\n",
      "4\n",
      "1\n"
     ]
    },
    {
     "name": "stderr",
     "output_type": "stream",
     "text": [
      "\n"
     ]
    }
   ],
   "source": [
    "sentiment_scores = []\n",
    "for review in tqdm.tqdm(json_reviews):\n",
    "    review_score = 0   \n",
    "    sentence_scores = []\n",
    "    for sentence in review:\n",
    "        sentence_score = 0\n",
    "        \n",
    "        for i, word_and_tag in enumerate(sentence):\n",
    "            word = word_and_tag[\"word\"]\n",
    "            pos_tag = word_and_tag[\"posTag\"]\n",
    "            flag = 0\n",
    "            new_tag = \"\"\n",
    "            score = 0\n",
    "            if (word == \"unk\"):\n",
    "                continue\n",
    "            \n",
    "            try:\n",
    "                if (i != (len(sentence) -1) and sentence[i+1][\"word\"] == \"not\"):\n",
    "                    flag = 1\n",
    "                elif (i != 0 and sentence[i-1][\"word\"] == \"bad\"):\n",
    "                    flag = 1\n",
    "                \n",
    "                score = get_score(word, pos_tag, flag)\n",
    "                \n",
    "                if (score == None):\n",
    "                    continue\n",
    "                elif (score == -1):\n",
    "                    new_tag = eng_tag(word)\n",
    "                    score = get_score(word, new_tag, flag)\n",
    "                \n",
    "            except Exception as e:\n",
    "#                 print(e)\n",
    "                continue\n",
    "            sentence_score += score\n",
    "        sentence_scores.append(sentence_score)\n",
    "    review_score = sum(x for x in sentence_scores)\n",
    "    sentiment_scores.append(review_score)"
   ]
  },
  {
   "cell_type": "code",
   "execution_count": 17,
   "metadata": {
    "collapsed": false,
    "deletable": true,
    "editable": true
   },
   "outputs": [
    {
     "name": "stdout",
     "output_type": "stream",
     "text": [
      "[-0.75, -1.25, -0.125, -2.125, -0.875, -0.625, -1.25, 0.0, -0.125, -0.5]\n"
     ]
    }
   ],
   "source": [
    "print(sentiment_scores)"
   ]
  },
  {
   "cell_type": "code",
   "execution_count": 11,
   "metadata": {
    "collapsed": false,
    "deletable": true,
    "editable": true
   },
   "outputs": [
    {
     "name": "stdout",
     "output_type": "stream",
     "text": [
      "-1.25\n"
     ]
    }
   ],
   "source": [
    "sentence = json_reviews[0][0]\n",
    "for i, word_and_tag in enumerate(sentence):\n",
    "            word = word_and_tag[\"word\"]\n",
    "            pos_tag = word_and_tag[\"posTag\"]\n",
    "            flag = 0\n",
    "            new_tag = \"\"\n",
    "            score = 0\n",
    "            if (word == \"unk\"):\n",
    "                continue\n",
    "            \n",
    "            try:\n",
    "                if (i != (len(sentence) -1) and sentence[i+1][\"word\"] == \"not\"):\n",
    "                    flag = 1\n",
    "                elif (i != 0 and sentence[i-1][\"word\"] == \"bad\"):\n",
    "                    flag = 1\n",
    "                \n",
    "                score = get_score(word, pos_tag, flag)\n",
    "                \n",
    "                if (score == None):\n",
    "                    continue\n",
    "                elif (score == -1):\n",
    "                    new_tag = eng_tag(word)\n",
    "                    score = get_score(word, new_tag, flag)\n",
    "                \n",
    "                sentence_score += score\n",
    "            except Exception as e:\n",
    "#                 print(e)\n",
    "                continue\n",
    "print(sentence_score)"
   ]
  },
  {
   "cell_type": "code",
   "execution_count": 7,
   "metadata": {
    "collapsed": false,
    "deletable": true,
    "editable": true
   },
   "outputs": [
    {
     "name": "stdout",
     "output_type": "stream",
     "text": [
      "<class 'nltk.corpus.reader.sentiwordnet.SentiSynset'>\n",
      "<class 'nltk.corpus.reader.sentiwordnet.SentiSynset'>\n",
      "<class 'nltk.corpus.reader.sentiwordnet.SentiSynset'>\n",
      "<class 'nltk.corpus.reader.sentiwordnet.SentiSynset'>\n",
      "<class 'nltk.corpus.reader.sentiwordnet.SentiSynset'>\n",
      "-1.375\n"
     ]
    }
   ],
   "source": [
    "first_sentence = json_reviews[0][0]\n",
    "final_score = 0\n",
    "for i, word_tag in enumerate(first_sentence):\n",
    "    f_score = 0\n",
    "    flags = 0\n",
    "    f_word = word_tag[\"word\"]\n",
    "    f_tag = word_tag[\"posTag\"]\n",
    "    if (i != (len(first_sentence) -1) and first_sentence[i+1][\"word\"] == \"not\"):\n",
    "        flags = 1\n",
    "    \n",
    "    f_score = get_score(f_word, f_tag, flags)\n",
    "    \n",
    "    if (f_score == -1):\n",
    "        new_eng_tag = eng_tag(f_word)\n",
    "        f_score = get_score(f_word, new_eng_tag, flags)\n",
    "        \n",
    "    final_score += f_score\n",
    "print(final_score)"
   ]
  },
  {
   "cell_type": "code",
   "execution_count": 4,
   "metadata": {
    "collapsed": false,
    "deletable": true,
    "editable": true
   },
   "outputs": [],
   "source": [
    "def get_score(word, postag, next_not):\n",
    "    \n",
    "    try:\n",
    "        if postag == \"Noun\":  # NOUN\n",
    "            score = swn.senti_synset(word + '.n.01')\n",
    "        elif postag == \"Verb\":  # VERB\n",
    "            score = swn.senti_synset(word + '.v.01')\n",
    "        elif postag == \"Adjective\":  # ADJECTIVE\n",
    "            score = swn.senti_synset(word + '.a.01')\n",
    "        elif postag == \"Adverb\":  # ADVERB\n",
    "            score = swn.senti_synset(word + '.r.01')\n",
    "    \n",
    "    except Exception as e:\n",
    "        return -1\n",
    "    \n",
    "#     if (score.obj_score() == 1.0):\n",
    "# #         print (word)\n",
    "#         return None\n",
    "    print(type(score))\n",
    "    true_score = score.pos_score() - score.neg_score()\n",
    "    if (next_not == 1 and true_score > 0):\n",
    "        true_score = true_score * (-1)\n",
    "        \n",
    "    return true_score"
   ]
  },
  {
   "cell_type": "code",
   "execution_count": 5,
   "metadata": {
    "collapsed": true,
    "deletable": true,
    "editable": true
   },
   "outputs": [],
   "source": [
    "def calculate_one_score(scores):\n",
    "    if len(scores) == 0:\n",
    "        return 0.0\n",
    "    \n",
    "    numerator = 0.0\n",
    "    denominator = 0.0\n",
    "    for i in range(len(scores)):\n",
    "        numerator += scores[i] * (1 / (i+2))\n",
    "        denominator += 1 / (i+1)\n",
    "    return numerator / denominator\n",
    "    "
   ]
  },
  {
   "cell_type": "code",
   "execution_count": 6,
   "metadata": {
    "collapsed": false,
    "deletable": true,
    "editable": true
   },
   "outputs": [],
   "source": [
    "def eng_tag(word):\n",
    "    lst = [word]\n",
    "    raw = pos_tag(lst)\n",
    "    eng_pos = raw[0][1]\n",
    "    if eng_pos == \"NN\":\n",
    "        return \"Noun\"\n",
    "    elif eng_pos == \"VB\":\n",
    "        return \"Verb\"\n",
    "    elif eng_pos == \"RB\":\n",
    "        return \"Adverb\"\n",
    "    elif eng_pos == \"JJ\":\n",
    "        return \"Adjective\"\n",
    "    else:\n",
    "        return None"
   ]
  }
 ],
 "metadata": {
  "anaconda-cloud": {},
  "kernelspec": {
   "display_name": "Python [conda root]",
   "language": "python",
   "name": "conda-root-py"
  },
  "language_info": {
   "codemirror_mode": {
    "name": "ipython",
    "version": 3
   },
   "file_extension": ".py",
   "mimetype": "text/x-python",
   "name": "python",
   "nbconvert_exporter": "python",
   "pygments_lexer": "ipython3",
   "version": "3.5.2"
  }
 },
 "nbformat": 4,
 "nbformat_minor": 2
}
