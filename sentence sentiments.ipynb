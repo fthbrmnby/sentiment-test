{
 "cells": [
  {
   "cell_type": "code",
   "execution_count": 1,
   "metadata": {
    "collapsed": true,
    "deletable": true,
    "editable": true
   },
   "outputs": [],
   "source": [
    "from nltk.corpus import sentiwordnet as swn\n",
    "from nltk import pos_tag\n",
    "import json\n",
    "import sys\n",
    "from tqdm import tqdm"
   ]
  },
  {
   "cell_type": "code",
   "execution_count": 2,
   "metadata": {
    "collapsed": false,
    "deletable": true,
    "editable": true
   },
   "outputs": [],
   "source": [
    "def get_score(word, postag, next_not=0):\n",
    "    \n",
    "    try:\n",
    "        if postag == \"Noun\":  # NOUN\n",
    "            word_score = swn.senti_synset(word + '.n.01')\n",
    "        elif postag == \"Verb\":  # VERB\n",
    "            word_score = swn.senti_synset(word + '.v.01')\n",
    "        elif postag == \"Adjective\":  # ADJECTIVE\n",
    "            word_score = swn.senti_synset(word + '.a.01')\n",
    "        elif postag == \"Adverb\":  # ADVERB\n",
    "            word_score = swn.senti_synset(word + '.r.01')\n",
    "        else:\n",
    "            return None\n",
    "    \n",
    "    except Exception as e:\n",
    "        return -1\n",
    "    \n",
    "    if (word_score.obj_score() == 1.0):\n",
    "        return None\n",
    "\n",
    "    true_score = word_score.pos_score() - word_score.neg_score()\n",
    "    if (next_not == 1 and true_score > 0):\n",
    "        true_score = true_score * (-1)  \n",
    "    return true_score"
   ]
  },
  {
   "cell_type": "code",
   "execution_count": 3,
   "metadata": {
    "collapsed": false,
    "deletable": true,
    "editable": true
   },
   "outputs": [],
   "source": [
    "def eng_tag(word):\n",
    "    raw = pos_tag([word])\n",
    "    eng_pos = raw[0][1]\n",
    "    if eng_pos == \"NN\":\n",
    "        return \"Noun\"\n",
    "    elif eng_pos == \"VB\":\n",
    "        return \"Verb\"\n",
    "    elif eng_pos == \"RB\":\n",
    "        return \"Adverb\"\n",
    "    elif eng_pos == \"JJ\":\n",
    "        return \"Adjective\"\n",
    "    else:\n",
    "        return None"
   ]
  },
  {
   "cell_type": "code",
   "execution_count": 4,
   "metadata": {
    "collapsed": false,
    "deletable": true,
    "editable": true
   },
   "outputs": [],
   "source": [
    "# Read Data\n",
    "with open('./sentenced-reviews.json') as data_file:\n",
    "    data = data_file.readlines()\n",
    "\n",
    "data = [x.strip() for x in data]\n",
    "json_reviews = [json.loads(x) for x in data]"
   ]
  },
  {
   "cell_type": "code",
   "execution_count": 5,
   "metadata": {
    "collapsed": false,
    "deletable": true,
    "editable": true
   },
   "outputs": [
    {
     "data": {
      "text/plain": [
       "10"
      ]
     },
     "execution_count": 5,
     "metadata": {},
     "output_type": "execute_result"
    }
   ],
   "source": [
    "len(json_reviews)"
   ]
  },
  {
   "cell_type": "code",
   "execution_count": 8,
   "metadata": {
    "collapsed": false,
    "deletable": true,
    "editable": true
   },
   "outputs": [
    {
     "name": "stderr",
     "output_type": "stream",
     "text": [
      "100%|██████████| 10/10 [00:00<00:00, 1578.23it/s]\n"
     ]
    }
   ],
   "source": [
    "review_scores = []\n",
    "for review in tqdm(json_reviews):\n",
    "    sentence_scores = []\n",
    "    for sentence in review:\n",
    "        total = 0.0\n",
    "        words_used = 0\n",
    "        for i, word_and_tag in enumerate(sentence):\n",
    "            flag = 0\n",
    "            try:\n",
    "                word = word_and_tag[\"word\"]\n",
    "                tag = word_and_tag[\"posTag\"]\n",
    "            \n",
    "            \n",
    "                if(i != (len(sentence)-1) and sentence[i+1][\"word\"] == \"not\"):\n",
    "                    flag = 1\n",
    "                elif (i != 0 and sentence[i-1][\"word\"] == \"bad\"):\n",
    "                    flag = 1\n",
    "\n",
    "                score = get_score(word, tag, flag)\n",
    "\n",
    "                if (score == -1):\n",
    "                    tag = eng_tag(word)\n",
    "                    score = get_score(word, tag, flag)\n",
    "            except Exception as e:\n",
    "                continue\n",
    "\n",
    "            if (score == None):\n",
    "                continue\n",
    "            total += score\n",
    "            words_used += 1\n",
    "        if (words_used != 0):\n",
    "            sentence_scores.append(total/words_used)\n",
    "        else:\n",
    "            sentence_scores.append(0)\n",
    "    review_score = sum(x for x in sentence_scores)\n",
    "    review_scores.append(review_score)"
   ]
  },
  {
   "cell_type": "code",
   "execution_count": 22,
   "metadata": {
    "collapsed": false,
    "deletable": true,
    "editable": true
   },
   "outputs": [],
   "source": [
    "true = sum(1 for x in review_scores if x > 0)\n",
    "false = sum(1 for x in review_scores if x < 0)\n",
    "zero = sum(1 for x in review_scores if x == 0)"
   ]
  },
  {
   "cell_type": "code",
   "execution_count": 23,
   "metadata": {
    "collapsed": false,
    "deletable": true,
    "editable": true
   },
   "outputs": [
    {
     "name": "stdout",
     "output_type": "stream",
     "text": [
      "106057\n",
      "101749\n",
      "12478\n"
     ]
    }
   ],
   "source": [
    "print(true)\n",
    "print(false)\n",
    "print(zero)"
   ]
  },
  {
   "cell_type": "code",
   "execution_count": 10,
   "metadata": {
    "collapsed": false
   },
   "outputs": [
    {
     "name": "stdout",
     "output_type": "stream",
     "text": [
      "[-0.4583333333333333, -1.25, 0.20833333333333334, -0.3541666666666667, -0.21875, -0.20833333333333334, -0.625, 0, -0.125, -0.53125]\n"
     ]
    }
   ],
   "source": [
    "print(review_scores)"
   ]
  }
 ],
 "metadata": {
  "anaconda-cloud": {},
  "kernelspec": {
   "display_name": "Python [conda root]",
   "language": "python",
   "name": "conda-root-py"
  },
  "language_info": {
   "codemirror_mode": {
    "name": "ipython",
    "version": 3
   },
   "file_extension": ".py",
   "mimetype": "text/x-python",
   "name": "python",
   "nbconvert_exporter": "python",
   "pygments_lexer": "ipython3",
   "version": "3.5.2"
  }
 },
 "nbformat": 4,
 "nbformat_minor": 2
}
