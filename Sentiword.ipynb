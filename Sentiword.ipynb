{
 "cells": [
  {
   "cell_type": "code",
   "execution_count": 1,
   "metadata": {
    "collapsed": true,
    "deletable": true,
    "editable": true
   },
   "outputs": [],
   "source": [
    "from nltk.corpus import sentiwordnet as swn\n",
    "import json\n",
    "import sys"
   ]
  },
  {
   "cell_type": "code",
   "execution_count": 36,
   "metadata": {
    "collapsed": false,
    "deletable": true,
    "editable": true
   },
   "outputs": [],
   "source": [
    "# Deprecated. See get_score()\n",
    "def get_scores(word, postag):\n",
    "    \"\"\"  Function to get sentiment scores from SentiWordNet.\n",
    "    Args:\n",
    "        word: word to get sentiment scores\n",
    "        postag: pos tag of the word\n",
    "    Returns:\n",
    "        score: a senti_synset instance that has negative, positive and neutral\n",
    "        scores of the word\"\"\"\n",
    "\n",
    "    if postag == \"Noun\":  # NOUN\n",
    "        score = swn.senti_synset(word + '.n.01')\n",
    "        return score\n",
    "    elif postag == \"Verb\":  # VERB\n",
    "        score = swn.senti_synset(word + '.v.01')\n",
    "        return score\n",
    "    elif postag == \"Adjective\":  # ADJECTIVE\n",
    "        score = swn.senti_synset(word + '.a.01')\n",
    "        return score\n",
    "    elif postag == \"Adverb\":  # ADVERB\n",
    "        score = swn.senti_synset(word + '.r.01')\n",
    "    return score"
   ]
  },
  {
   "cell_type": "code",
   "execution_count": 34,
   "metadata": {
    "collapsed": false,
    "deletable": true,
    "editable": true
   },
   "outputs": [],
   "source": [
    "# Read Data\n",
    "with open('/media/fatih/DATA/Grad/corrected_neg_eng.json') as data_file:\n",
    "    data = data_file.readlines()\n",
    "\n",
    "data = [x.strip() for x in data]\n",
    "jsonSentences = [json.loads(x) for x in data]"
   ]
  },
  {
   "cell_type": "code",
   "execution_count": 35,
   "metadata": {
    "collapsed": false,
    "deletable": true,
    "editable": true
   },
   "outputs": [
    {
     "name": "stdout",
     "output_type": "stream",
     "text": [
      "[0.2169160583941606, 0.1752596784799625, -0.16194584202436468, 0.05557554320297834, 0.20177769281222752, -0.37568636012541945, 0.21441605839416059, -0.028745072273324575, 0.10714288528601175, -0.17658248545051994]\n"
     ]
    }
   ],
   "source": [
    "# word = jsonSentences[0][0][\"word\"]\n",
    "# pos_tag = jsonSentences[0][0][\"posTag\"]\n",
    "# word = \"bad\"\n",
    "# pos_tag = \"Adjective\"\n",
    "# print(\"Word: \" + word)\n",
    "# print(\"Pos tag: \" + pos_tag)\n",
    "# score = get_score(word, pos_tag)\n",
    "# one_score = calculate_one_score(score)\n",
    "# print(\"%.2f\" % one_score)\n",
    "# print(score.neg_score())\n",
    "\n",
    "# with open(\"pos_sentiments.txt\", \"w\") as negs:\n",
    "#     sentiments = []\n",
    "#     for sentence in jsonSentences:\n",
    "#         sents = []\n",
    "#         for word in sentence:\n",
    "#             try:\n",
    "#                 score = get_score(word[\"word\"], word[\"posTag\"])\n",
    "#                 sents.append(score)\n",
    "#                 negs.writelines(str(score))\n",
    "#                 print(score)\n",
    "#             except:\n",
    "#                 e = sys.exc_info()[0]\n",
    "#                 print(e)\n",
    "#         sentiments.append(sents)\n",
    "#         negs.write(\"\\n\")\n",
    "\n",
    "sentiments = []\n",
    "for sentence in jsonSentences:\n",
    "    total = 0.0\n",
    "    for word in sentence:\n",
    "        scores = get_score(word[\"word\"], word[\"posTag\"])\n",
    "        score = calculate_one_score(scores)\n",
    "#         print(\"Score for {0}: {1}\".format(word[\"word\"], score))\n",
    "        total += score\n",
    "    sentiments.append(total)\n",
    "#     print(\"Final score for sentence {0} is --> {1}\".format(sentence, total))\n",
    "print(sentiments)"
   ]
  },
  {
   "cell_type": "code",
   "execution_count": 12,
   "metadata": {
    "collapsed": false,
    "deletable": true,
    "editable": true
   },
   "outputs": [],
   "source": [
    "def get_score(word, postag):\n",
    "    scores = []\n",
    "    counter = 1\n",
    "    true_score = 0\n",
    "    while True:\n",
    "        try:\n",
    "            if postag == \"Noun\":  # NOUN\n",
    "                score = swn.senti_synset(word + '.n.0' + str(counter))\n",
    "            elif postag == \"Verb\":  # VERB\n",
    "                score = swn.senti_synset(word + '.v.0' + str(counter))\n",
    "            elif postag == \"Adjective\":  # ADJECTIVE\n",
    "                score = swn.senti_synset(word + '.a.0' + str(counter))\n",
    "            elif postag == \"Adverb\":  # ADVERB\n",
    "                score = swn.senti_synset(word + '.r.0' + str(counter))\n",
    "            \n",
    "#             print(\"POSITIVE: \" + str(score.pos_score()))\n",
    "#             print(\"NEGATIVE: \" + str(score.neg_score()))\n",
    "            true_score = score.pos_score() - score.neg_score()\n",
    "#             print(\"TRUE: \" + str(true_score))\n",
    "            scores.append(true_score)\n",
    "            counter += 1\n",
    "        except:\n",
    "#             print (\"Unexpected error:\", sys.exc_info()[0])\n",
    "            break\n",
    "            \n",
    "    return scores"
   ]
  },
  {
   "cell_type": "code",
   "execution_count": 27,
   "metadata": {
    "collapsed": true,
    "deletable": true,
    "editable": true
   },
   "outputs": [],
   "source": [
    "def calculate_one_score(scores):\n",
    "    if len(scores) == 0:\n",
    "        return 0.0\n",
    "    \n",
    "    numerator = 0.0\n",
    "    denominator = 0.0\n",
    "    for i in range(len(scores)):\n",
    "        numerator += scores[i] * (1 / (i+2))\n",
    "        denominator += 1 / (i+1)\n",
    "    return numerator / denominator\n",
    "    "
   ]
  }
 ],
 "metadata": {
  "anaconda-cloud": {},
  "kernelspec": {
   "display_name": "Python [conda root]",
   "language": "python",
   "name": "conda-root-py"
  },
  "language_info": {
   "codemirror_mode": {
    "name": "ipython",
    "version": 3
   },
   "file_extension": ".py",
   "mimetype": "text/x-python",
   "name": "python",
   "nbconvert_exporter": "python",
   "pygments_lexer": "ipython3",
   "version": "3.5.2"
  }
 },
 "nbformat": 4,
 "nbformat_minor": 2
}
